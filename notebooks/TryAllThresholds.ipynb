{
 "cells": [
  {
   "cell_type": "code",
   "execution_count": 3,
   "metadata": {
    "collapsed": false
   },
   "outputs": [
    {
     "name": "stderr",
     "output_type": "stream",
     "text": [
      "/Users/Spencer/anaconda/lib/python3.4/site-packages/matplotlib/font_manager.py:273: UserWarning: Matplotlib is building the font cache using fc-list. This may take a moment.\n",
      "  warnings.warn('Matplotlib is building the font cache using fc-list. This may take a moment.')\n",
      "/Users/Spencer/anaconda/lib/python3.4/site-packages/matplotlib/font_manager.py:273: UserWarning: Matplotlib is building the font cache using fc-list. This may take a moment.\n",
      "  warnings.warn('Matplotlib is building the font cache using fc-list. This may take a moment.')\n"
     ]
    }
   ],
   "source": [
    "%matplotlib inline"
   ]
  },
  {
   "cell_type": "code",
   "execution_count": 4,
   "metadata": {
    "collapsed": true
   },
   "outputs": [],
   "source": [
    "import sampleData"
   ]
  },
  {
   "cell_type": "code",
   "execution_count": 5,
   "metadata": {
    "collapsed": true
   },
   "outputs": [],
   "source": [
    "import spencerUtilities"
   ]
  },
  {
   "cell_type": "code",
   "execution_count": 6,
   "metadata": {
    "collapsed": true
   },
   "outputs": [],
   "source": [
    "mono = sampleData.monolayer()"
   ]
  },
  {
   "cell_type": "code",
   "execution_count": 7,
   "metadata": {
    "collapsed": true
   },
   "outputs": [],
   "source": [
    "greyMono = sampleData.rgb2gray(mono)"
   ]
  },
  {
   "cell_type": "code",
   "execution_count": 8,
   "metadata": {
    "collapsed": false
   },
   "outputs": [
    {
     "ename": "ImportError",
     "evalue": "cannot import name 'threshold_local'",
     "output_type": "error",
     "traceback": [
      "\u001b[0;31m---------------------------------------------------------------------------\u001b[0m",
      "\u001b[0;31mImportError\u001b[0m                               Traceback (most recent call last)",
      "\u001b[0;32m<ipython-input-8-78306de1f3de>\u001b[0m in \u001b[0;36m<module>\u001b[0;34m()\u001b[0m\n\u001b[0;32m----> 1\u001b[0;31m \u001b[0;32mfrom\u001b[0m \u001b[0mskimage\u001b[0m\u001b[0;34m.\u001b[0m\u001b[0mfilters\u001b[0m \u001b[0;32mimport\u001b[0m \u001b[0mthreshold_local\u001b[0m\u001b[0;34m\u001b[0m\u001b[0m\n\u001b[0m",
      "\u001b[0;31mImportError\u001b[0m: cannot import name 'threshold_local'"
     ]
    }
   ],
   "source": [
    "from skimage.filters import threshold_local"
   ]
  },
  {
   "cell_type": "code",
   "execution_count": null,
   "metadata": {
    "collapsed": true
   },
   "outputs": [],
   "source": [
    "from collections import OrderedDict"
   ]
  },
  {
   "cell_type": "code",
   "execution_count": null,
   "metadata": {
    "collapsed": true
   },
   "outputs": [],
   "source": [
    "import itertools"
   ]
  },
  {
   "cell_type": "code",
   "execution_count": null,
   "metadata": {
    "collapsed": true
   },
   "outputs": [],
   "source": [
    "import skimage.util"
   ]
  },
  {
   "cell_type": "code",
   "execution_count": null,
   "metadata": {
    "collapsed": true
   },
   "outputs": [],
   "source": [
    "import math"
   ]
  },
  {
   "cell_type": "code",
   "execution_count": null,
   "metadata": {
    "collapsed": true
   },
   "outputs": [],
   "source": [
    "def _try_all(image, methods=None, figsize=None, num_cols=2, verbose=True):\n",
    "    \"\"\"Returns a figure comparing the outputs of different methods.\n",
    "    Parameters\n",
    "    ----------\n",
    "    image : (N, M) ndarray\n",
    "        Input image.\n",
    "    methods : dict, optional\n",
    "        Names and associated functions.\n",
    "        Functions must take and return an image.\n",
    "    figsize : tuple, optional\n",
    "        Figure size (in inches).\n",
    "    num_cols : int, optional\n",
    "        Number of columns.\n",
    "    verbose : bool, optional\n",
    "        Print function name for each method.\n",
    "    Returns\n",
    "    -------\n",
    "    fig, ax : tuple\n",
    "        Matplotlib figure and axes.\n",
    "    \"\"\"\n",
    "    from matplotlib import pyplot as plt\n",
    "\n",
    "    num_rows = math.ceil((len(methods) + 1.) / num_cols)\n",
    "    num_rows = int(num_rows)  # Python 2.7 support\n",
    "    fig, ax = plt.subplots(num_rows, num_cols, figsize=figsize,\n",
    "                           sharex=True, sharey=True,\n",
    "                           subplot_kw={'adjustable': 'box-forced'})\n",
    "    ax = ax.ravel()\n",
    "\n",
    "    ax[0].imshow(image, cmap=plt.cm.gray)\n",
    "    ax[0].set_title('Original')\n",
    "\n",
    "    i = 1\n",
    "    for name, func in methods.items():\n",
    "        ax[i].imshow(func(image), cmap=plt.cm.gray)\n",
    "        ax[i].set_title(name)\n",
    "        i += 1\n",
    "        if verbose:\n",
    "            print(func.__orifunc__)\n",
    "\n",
    "    for a in ax:\n",
    "        a.axis('off')\n",
    "\n",
    "    fig.tight_layout()\n",
    "    return fig, ax"
   ]
  },
  {
   "cell_type": "code",
   "execution_count": null,
   "metadata": {
    "collapsed": true
   },
   "outputs": [],
   "source": [
    "def try_all_threshold(image, figsize=(8, 5), verbose=True):\n",
    "    \"\"\"Returns a figure comparing the outputs of different thresholding methods.\n",
    "    Parameters\n",
    "    ----------\n",
    "    image : (N, M) ndarray\n",
    "        Input image.\n",
    "    figsize : tuple, optional\n",
    "        Figure size (in inches).\n",
    "    verbose : bool, optional\n",
    "        Print function name for each method.\n",
    "    Returns\n",
    "    -------\n",
    "    fig, ax : tuple\n",
    "        Matplotlib figure and axes.\n",
    "    Notes\n",
    "    -----\n",
    "    The following algorithms are used:\n",
    "    * isodata\n",
    "    * li\n",
    "    * mean\n",
    "    * minimum\n",
    "    * otsu\n",
    "    * triangle\n",
    "    * yen\n",
    "    Examples\n",
    "    --------\n",
    "    >>> from skimage.data import text\n",
    "    >>> fig, ax = try_all_threshold(text(), figsize=(10, 6), verbose=False)\n",
    "    \"\"\"\n",
    "    def thresh(func):\n",
    "        \"\"\"\n",
    "        A wrapper function to return a thresholded image.\n",
    "        \"\"\"\n",
    "        def wrapper(im):\n",
    "            return im > func(im)\n",
    "        try:\n",
    "            wrapper.__orifunc__ = func.__orifunc__\n",
    "        except AttributeError:\n",
    "            wrapper.__orifunc__ = func.__module__ + '.' + func.__name__\n",
    "        return wrapper\n",
    "\n",
    "    # Global algorithms.\n",
    "    methods = OrderedDict({'Isodata': thresh(threshold_isodata),\n",
    "                           'Li': thresh(threshold_li),\n",
    "#                            'Mean': thresh(threshold_mean),\n",
    "#                            'Minimum': thresh(threshold_minimum),\n",
    "                           'Otsu': thresh(threshold_otsu),\n",
    "#                            'Triangle': thresh(threshold_triangle),\n",
    "                           'Yen': thresh(threshold_yen),\n",
    "                            'Local': thresh(threshold_local, 21),\n",
    "                          'Niblack': thresh(threshold_niblack)})\n",
    "\n",
    "    return _try_all(image, figsize=figsize,\n",
    "                    methods=methods, verbose=verbose)"
   ]
  },
  {
   "cell_type": "code",
   "execution_count": null,
   "metadata": {
    "collapsed": false
   },
   "outputs": [],
   "source": [
    "fig = try_all_threshold(greyMono, figsize = (10, 10))"
   ]
  },
  {
   "cell_type": "code",
   "execution_count": null,
   "metadata": {
    "collapsed": true
   },
   "outputs": [],
   "source": [
    "import skimage.filters"
   ]
  },
  {
   "cell_type": "code",
   "execution_count": null,
   "metadata": {
    "collapsed": true
   },
   "outputs": [],
   "source": []
  }
 ],
 "metadata": {
  "kernelspec": {
   "display_name": "Python 3",
   "language": "python",
   "name": "python3"
  },
  "language_info": {
   "codemirror_mode": {
    "name": "ipython",
    "version": 3
   },
   "file_extension": ".py",
   "mimetype": "text/x-python",
   "name": "python",
   "nbconvert_exporter": "python",
   "pygments_lexer": "ipython3",
   "version": "3.4.5"
  }
 },
 "nbformat": 4,
 "nbformat_minor": 2
}
