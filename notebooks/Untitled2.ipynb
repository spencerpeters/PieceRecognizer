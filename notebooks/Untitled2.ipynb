{
 "cells": [
  {
   "cell_type": "code",
   "execution_count": 2,
   "metadata": {
    "collapsed": false
   },
   "outputs": [],
   "source": [
    "import sys"
   ]
  },
  {
   "cell_type": "code",
   "execution_count": 4,
   "metadata": {
    "collapsed": false
   },
   "outputs": [
    {
     "name": "stdout",
     "output_type": "stream",
     "text": [
      "['', '/Users/Spencer/anaconda/lib/python34.zip', '/Users/Spencer/anaconda/lib/python3.4', '/Users/Spencer/anaconda/lib/python3.4/plat-darwin', '/Users/Spencer/anaconda/lib/python3.4/lib-dynload', '/Users/Spencer/anaconda/lib/python3.4/site-packages', '/Users/Spencer/anaconda/lib/python3.4/site-packages/Sphinx-1.5.1-py3.4.egg', '/Users/Spencer/anaconda/lib/python3.4/site-packages/aeosa', '/Users/Spencer/anaconda/lib/python3.4/site-packages/setuptools-27.2.0-py3.4.egg', '/Users/Spencer/anaconda/lib/python3.4/site-packages/IPython/extensions', '/Users/Spencer/.ipython']\n"
     ]
    }
   ],
   "source": [
    "print(sys.path)"
   ]
  },
  {
   "cell_type": "code",
   "execution_count": null,
   "metadata": {
    "collapsed": true
   },
   "outputs": [],
   "source": []
  }
 ],
 "metadata": {
  "kernelspec": {
   "display_name": "Python 3",
   "language": "python",
   "name": "python3"
  },
  "language_info": {
   "codemirror_mode": {
    "name": "ipython",
    "version": 3
   },
   "file_extension": ".py",
   "mimetype": "text/x-python",
   "name": "python",
   "nbconvert_exporter": "python",
   "pygments_lexer": "ipython3",
   "version": "3.4.5"
  }
 },
 "nbformat": 4,
 "nbformat_minor": 2
}
