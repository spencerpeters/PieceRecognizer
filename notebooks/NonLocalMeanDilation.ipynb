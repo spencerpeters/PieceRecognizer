{
 "cells": [
  {
   "cell_type": "code",
   "execution_count": 3,
   "metadata": {
    "collapsed": true
   },
   "outputs": [],
   "source": [
    "import skimage.io as io"
   ]
  },
  {
   "cell_type": "code",
   "execution_count": 4,
   "metadata": {
    "collapsed": true
   },
   "outputs": [],
   "source": [
    "import skimage\n",
    "from skimage import data"
   ]
  },
  {
   "cell_type": "code",
   "execution_count": 5,
   "metadata": {},
   "outputs": [],
   "source": [
    "bn = io.imread(\"mainTestImage.JPG\")"
   ]
  },
  {
   "cell_type": "code",
   "execution_count": 6,
   "metadata": {
    "collapsed": true
   },
   "outputs": [],
   "source": [
    "import matplotlib.pyplot as plt"
   ]
  },
  {
   "cell_type": "code",
   "execution_count": 7,
   "metadata": {
    "collapsed": true
   },
   "outputs": [],
   "source": [
    "import numpy as np"
   ]
  },
  {
   "cell_type": "code",
   "execution_count": null,
   "metadata": {
    "collapsed": true
   },
   "outputs": [],
   "source": [
    "%matplotlib inline"
   ]
  },
  {
   "cell_type": "code",
   "execution_count": null,
   "metadata": {},
   "outputs": [],
   "source": [
    "plt.imshow(bn)"
   ]
  },
  {
   "cell_type": "code",
   "execution_count": 8,
   "metadata": {},
   "outputs": [
    {
     "name": "stdout",
     "output_type": "stream",
     "text": [
      "Using matplotlib backend: Qt5Agg\n"
     ]
    }
   ],
   "source": [
    "%matplotlib"
   ]
  },
  {
   "cell_type": "code",
   "execution_count": null,
   "metadata": {},
   "outputs": [],
   "source": [
    "from skimage import data, img_as_float\n",
    "from skimage.restoration import denoise_nl_means\n",
    "\n",
    "\n",
    "astro = img_as_float(data.astronaut())\n",
    "astro = astro[30:180, 150:300]\n",
    "\n",
    "noisy = astro + 0.3 * np.random.random(astro.shape)\n",
    "noisy = np.clip(noisy, 0, 1)\n",
    "\n",
    "denoise = denoise_nl_means(noisy, 7, 9, 0.08, multichannel=True)\n",
    "\n",
    "fig, ax = plt.subplots(ncols=2, figsize=(8, 4), sharex=True, sharey=True,\n",
    "                       subplot_kw={'adjustable': 'box-forced'})\n",
    "\n",
    "ax[0].imshow(noisy)\n",
    "ax[0].axis('off')\n",
    "ax[0].set_title('noisy')\n",
    "ax[1].imshow(denoise)\n",
    "ax[1].axis('off')\n",
    "ax[1].set_title('non-local means')\n",
    "\n",
    "fig.tight_layout()\n",
    "\n",
    "plt.show()"
   ]
  },
  {
   "cell_type": "code",
   "execution_count": 11,
   "metadata": {},
   "outputs": [],
   "source": [
    "astro = img_as_float(bn)\n",
    "\n",
    "noisy = astro\n",
    "\n",
    "denoise = denoise_nl_means(noisy, 7, 9, 0.08, multichannel=True)\n",
    "\n",
    "fig, ax = plt.subplots(ncols=2, figsize=(30, 15), sharex=True, sharey=True,\n",
    "                       subplot_kw={'adjustable': 'box-forced'})\n",
    "\n",
    "ax[0].imshow(noisy)\n",
    "ax[0].axis('off')\n",
    "ax[0].set_title('noisy')\n",
    "ax[1].imshow(denoise)\n",
    "ax[1].axis('off')\n",
    "ax[1].set_title('non-local means')\n",
    "\n",
    "fig.tight_layout()\n",
    "\n",
    "plt.show()"
   ]
  },
  {
   "cell_type": "code",
   "execution_count": 10,
   "metadata": {
    "collapsed": true
   },
   "outputs": [],
   "source": [
    "from skimage import data, img_as_float\n",
    "from skimage.restoration import denoise_nl_means"
   ]
  },
  {
   "cell_type": "code",
   "execution_count": null,
   "metadata": {
    "collapsed": true
   },
   "outputs": [],
   "source": []
  }
 ],
 "metadata": {
  "kernelspec": {
   "display_name": "Python 3",
   "language": "python",
   "name": "python3"
  },
  "language_info": {
   "codemirror_mode": {
    "name": "ipython",
    "version": 3
   },
   "file_extension": ".py",
   "mimetype": "text/x-python",
   "name": "python",
   "nbconvert_exporter": "python",
   "pygments_lexer": "ipython3",
   "version": "3.6.1"
  }
 },
 "nbformat": 4,
 "nbformat_minor": 2
}
